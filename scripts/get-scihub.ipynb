{
 "cells": [
  {
   "cell_type": "code",
   "execution_count": 7,
   "metadata": {
    "collapsed": true
   },
   "outputs": [],
   "source": [
    "from selenium import webdriver\n",
    "from selenium.webdriver.common.keys import Keys\n",
    "import urllib2\n",
    "import glob\n",
    "import time"
   ]
  },
  {
   "cell_type": "code",
   "execution_count": 8,
   "metadata": {
    "collapsed": false
   },
   "outputs": [],
   "source": [
    "driver = webdriver.Chrome()"
   ]
  },
  {
   "cell_type": "code",
   "execution_count": 9,
   "metadata": {
    "collapsed": true
   },
   "outputs": [],
   "source": [
    "def save_pdf(doi,link):\n",
    "    doi_file = doi.replace(\"/\",\"__\")\n",
    "    response = urllib2.urlopen(link)\n",
    "    fh = open(\"../pdfs/\" + doi_file + \".pdf\", 'wb')\n",
    "    fh.write(response.read())\n",
    "    fh.close()\n",
    "    print(\"Completed %s\" % doi)"
   ]
  },
  {
   "cell_type": "code",
   "execution_count": 10,
   "metadata": {
    "collapsed": true
   },
   "outputs": [],
   "source": [
    "def get_pdf(doi):\n",
    "    try:\n",
    "        driver.get(\"http://libgen.io/scimag/\")\n",
    "        search = driver.find_element_by_name(\"s\")\n",
    "        search.clear()\n",
    "        search.send_keys(doi)\n",
    "        search.send_keys(Keys.RETURN)\n",
    "        pdfs = driver.find_elements_by_id(\"pdf\")\n",
    "        if len(pdfs) != 0:\n",
    "            pdf_link = pdfs[0].get_attribute(\"src\")\n",
    "            save_pdf(doi,pdf_link)\n",
    "        else:\n",
    "            doi_element = driver.find_element_by_link_text(\"Libgen\")\n",
    "            driver.get(doi_element.get_attribute(\"href\"))\n",
    "            download_element = driver.find_element_by_link_text(\"DOWNLOAD\")\n",
    "            pdf_link = download_element.get_attribute(\"href\")\n",
    "            save_pdf(doi,pdf_link)\n",
    "    except:\n",
    "        error_out = open(\"failed_scihub_download_doi.txt\",\"a\")\n",
    "        error_out.write(doi+\"\\n\")\n",
    "        error_out.close()"
   ]
  },
  {
   "cell_type": "code",
   "execution_count": 11,
   "metadata": {
    "collapsed": false
   },
   "outputs": [
    {
     "name": "stdout",
     "output_type": "stream",
     "text": [
      "reading file ../data/2017-09-04-18-44-03-pubmed-crawl.csv\n"
     ]
    }
   ],
   "source": [
    "# read in Pubmed-ID to DOI csv file\n",
    "pubmed_files = glob.glob(\"../data/*pubmed-crawl.csv\")\n",
    "latest_pubmed = pubmed_files[-1]\n",
    "print(\"reading file %s\" % latest_pubmed)\n",
    "dois = []\n",
    "with open(latest_pubmed) as pubmed_file:\n",
    "    for line in pubmed_file:\n",
    "        if line[0] != \"#\":\n",
    "            la = line.strip().split(\"\\t\")\n",
    "            if la[-1] != \"DOI\":\n",
    "                dois.append(la[-1])"
   ]
  },
  {
   "cell_type": "code",
   "execution_count": null,
   "metadata": {
    "collapsed": false
   },
   "outputs": [
    {
     "name": "stdout",
     "output_type": "stream",
     "text": [
      "Completed 10.1093/schbul/sbx058\n",
      "Completed 10.1093/scan/nsx021\n",
      "Completed 10.1093/gigascience/gix002\n",
      "Completed 10.1093/cercor/bhx014\n",
      "Completed 10.3758/s13415-016-0489-1\n",
      "Completed 10.1002/brb3.511\n",
      "Completed 10.1038/ijo.2016.231\n",
      "Completed 10.1016/j.neuroimage.2016.12.062\n",
      "Completed 10.1016/j.cortex.2016.11.017\n",
      "Completed 10.1111/adb.12486\n",
      "Completed 10.1016/j.nicl.2016.10.016\n",
      "Completed 10.1016/j.nicl.2016.04.010\n",
      "Completed 10.1016/j.neuroimage.2016.12.046\n",
      "Completed 10.1111/epi.13644\n",
      "Completed 10.1016/j.neuroimage.2016.12.016\n",
      "Completed 10.3758/s13415-016-0488-2\n",
      "Completed 10.1016/j.jad.2016.11.044\n",
      "Completed 10.1080/87565641.2016.1243115\n",
      "Completed 10.1016/j.schres.2016.11.043\n",
      "Completed 10.1097/MD.0000000000005191\n",
      "Completed 10.1016/j.neulet.2016.11.052\n",
      "Completed 10.1097/WNP.0000000000000365\n",
      "Completed 10.1002/jmri.25571\n",
      "Completed 10.1002/jnr.23870\n",
      "Completed 10.1111/adb.12467\n",
      "Completed 10.1111/adb.12481\n",
      "Completed 10.1016/j.yebeh.2016.10.016\n",
      "Completed 10.1016/j.jpain.2016.10.017\n",
      "Completed 10.1038/srep36653\n",
      "Completed 10.1002/brb3.555\n",
      "Completed 10.1007/s11682-016-9646-y\n",
      "Completed 10.1001/jamapsychiatry.2016.2783\n",
      "Completed 10.1186/s12883-016-0729-6\n",
      "Completed 10.1016/j.jad.2016.10.022\n",
      "Completed 10.1093/scan/nsw149\n",
      "Completed 10.1016/j.neuropsychologia.2016.10.013\n",
      "Completed 10.1016/j.jad.2016.10.015\n",
      "Completed 10.1016/j.eplepsyres.2016.10.011\n",
      "Completed 10.1016/j.eplepsyres.2016.08.008\n",
      "Completed 10.1016/j.bbr.2016.10.002\n",
      "Completed 10.1038/srep35905\n",
      "Completed 10.1016/j.neuropsychologia.2016.08.004\n",
      "Completed 10.1016/j.psyneuen.2016.09.023\n",
      "Completed 10.1007/s11682-016-9608-4\n",
      "Completed 10.1111/bdi.12440\n",
      "Completed 10.1016/j.jad.2016.09.064\n",
      "Completed 10.1016/j.mri.2016.10.015\n",
      "Completed 10.1016/j.yfrne.2016.10.001\n",
      "Completed 10.1016/j.psyneuen.2016.08.013\n",
      "Completed 10.1016/j.ejmp.2016.06.008\n",
      "Completed 10.1007/s11682-016-9623-5\n",
      "Completed 10.1007/s11682-016-9599-1\n",
      "Completed 10.1002/mds.26826\n",
      "Completed 10.1186/s12888-016-1047-7\n",
      "Completed 10.1523/JNEUROSCI.0951-16.2016\n"
     ]
    }
   ],
   "source": [
    "for doi in dois:\n",
    "    if \"/\" in doi:\n",
    "        get_pdf(doi)\n",
    "        time.sleep(5)"
   ]
  },
  {
   "cell_type": "code",
   "execution_count": null,
   "metadata": {
    "collapsed": false
   },
   "outputs": [],
   "source": []
  },
  {
   "cell_type": "code",
   "execution_count": null,
   "metadata": {
    "collapsed": true
   },
   "outputs": [],
   "source": []
  }
 ],
 "metadata": {
  "kernelspec": {
   "display_name": "Python 2",
   "language": "python",
   "name": "python2"
  },
  "language_info": {
   "codemirror_mode": {
    "name": "ipython",
    "version": 2
   },
   "file_extension": ".py",
   "mimetype": "text/x-python",
   "name": "python",
   "nbconvert_exporter": "python",
   "pygments_lexer": "ipython2",
   "version": "2.7.12"
  }
 },
 "nbformat": 4,
 "nbformat_minor": 2
}
