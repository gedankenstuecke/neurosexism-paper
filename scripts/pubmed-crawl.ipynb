{
 "cells": [
  {
   "cell_type": "code",
   "execution_count": 45,
   "metadata": {
    "collapsed": true
   },
   "outputs": [],
   "source": [
    "from Bio import Entrez\n",
    "from Bio import Medline\n",
    "import datetime \n",
    "\n",
    "Entrez.email = \"bgreshake@googlemail.com\"\n",
    "\n",
    "search_term = \"((gender[Title/Abstract]) OR sex[Title/Abstract]) AND (fMRI[Title/Abstract] OR EEG[Title/Abstract])\""
   ]
  },
  {
   "cell_type": "code",
   "execution_count": 46,
   "metadata": {
    "collapsed": false
   },
   "outputs": [],
   "source": [
    "crawltime = datetime.datetime.now().strftime(\"%Y-%m-%d-%H-%M-%S\")\n",
    "\n",
    "# get number of articles we need to fetch\n",
    "handle = Entrez.esearch(db=\"pubmed\", term=search_term)\n",
    "record = Entrez.read(handle)\n",
    "article_number = record[\"Count\"]\n",
    "handle.close()"
   ]
  },
  {
   "cell_type": "code",
   "execution_count": 47,
   "metadata": {
    "collapsed": false
   },
   "outputs": [],
   "source": [
    "# get all articles from pubmed\n",
    "handle = Entrez.esearch(db=\"pubmed\", term=search_term, retmax=article_number)\n",
    "record = Entrez.read(handle)\n",
    "id_list = record[\"IdList\"]\n",
    "handle.close()"
   ]
  },
  {
   "cell_type": "code",
   "execution_count": 48,
   "metadata": {
    "collapsed": false
   },
   "outputs": [
    {
     "name": "stdout",
     "output_type": "stream",
     "text": [
      "3\n"
     ]
    }
   ],
   "source": [
    "# split input list in chunks of 150 so pubmed will honor our requests\n",
    "\n",
    "id_list_chunks = [id_list[x:x+150] for x in range(0, len(id_list), 150)]\n",
    "len(id_list_chunks)\n",
    "print len(id_list_chunks[-1])"
   ]
  },
  {
   "cell_type": "code",
   "execution_count": 49,
   "metadata": {
    "collapsed": false
   },
   "outputs": [],
   "source": [
    "# fetch all records from pubmed, parse as medline format\n",
    "\n",
    "all_records = []\n",
    "for i in id_list_chunks:\n",
    "    handle = Entrez.efetch(db=\"pubmed\", id=i, rettype=\"medline\",\n",
    "                           retmode=\"text\")\n",
    "    records = Medline.parse(handle)\n",
    "    records = list(records)\n",
    "    all_records += records\n",
    "    handle.close()"
   ]
  },
  {
   "cell_type": "code",
   "execution_count": 62,
   "metadata": {
    "collapsed": false
   },
   "outputs": [],
   "source": [
    "# go through all IDs, see whether an DOI is associated and save pubmed + DOI\n",
    "# \"../data/parsetime-pubmed-crawl.csv\" contains all pubmed IDs, title, date published plus their DOI\n",
    "# \"../data/parsetime-pubmed-crawl-no-doi.csv\" contains all pubmed IDs for which no DOI was found, w/ title & DP\n",
    "# both files have the full search term used for the search in the first \"#\"-prefixed comment line\n",
    "# followed by a header\n",
    "\n",
    "outfile = \"../data/%s-pubmed-crawl.csv\" % crawltime\n",
    "output = open(outfile,\"w\")\n",
    "output.write(\"#search term: %s \\n\" % search_term)\n",
    "output.write(\"pubmed_ID\\ttitle\\tdate_published\\tDOI\\n\")\n",
    "\n",
    "no_doi_outfile = \"../data/%s-pubmed-crawl-no-doi.csv\" % crawltime\n",
    "no_doi_output = open(no_doi_outfile,\"w\")\n",
    "no_doi_output.write(\"#search term: %s \\n\" % search_term)\n",
    "no_doi_output.write(\"pubmed_ID\\ttitle\\tdate_published\\n\")\n",
    "\n",
    "\n",
    "for record in all_records:\n",
    "    doi = \"-\"\n",
    "    if \"AID\" in record.keys():\n",
    "        for aid in record[\"AID\"]:\n",
    "            if \"[doi]\" in aid:\n",
    "                doi = aid.replace(\"[doi]\",\"\")\n",
    "    \n",
    "    if \"DP\" in record.keys():\n",
    "        date_published = record[\"DP\"]\n",
    "    else:\n",
    "        date_published = \"NA\"\n",
    "        \n",
    "    if \"TI\" in record.keys():\n",
    "        title = record[\"TI\"]\n",
    "    else:\n",
    "        title = \"NA\"\n",
    "    \n",
    "    if doi != \"-\":\n",
    "        output.write(\"%s\\t%s\\t%s\\t%s\\n\" % (record[\"PMID\"], title, date_published, doi ))     \n",
    "    else:\n",
    "        no_doi_output.write(\"%s\\t%s\\t%s\\n\" % (record[\"PMID\"], title, date_published))        \n",
    "output.close()\n",
    "no_doi_output.close()"
   ]
  },
  {
   "cell_type": "code",
   "execution_count": 57,
   "metadata": {
    "collapsed": false
   },
   "outputs": [
    {
     "name": "stdout",
     "output_type": "stream",
     "text": [
      "2017 Aug 31\n",
      "Wake up to sleep: The effects of lacosamide on daytime sleepiness in adults with epilepsy.\n"
     ]
    }
   ],
   "source": [
    "print(all_records[0][\"DP\"])\n",
    "print(all_records[0][\"TI\"])"
   ]
  },
  {
   "cell_type": "code",
   "execution_count": null,
   "metadata": {
    "collapsed": true
   },
   "outputs": [],
   "source": []
  }
 ],
 "metadata": {
  "kernelspec": {
   "display_name": "Python 2",
   "language": "python",
   "name": "python2"
  },
  "language_info": {
   "codemirror_mode": {
    "name": "ipython",
    "version": 2
   },
   "file_extension": ".py",
   "mimetype": "text/x-python",
   "name": "python",
   "nbconvert_exporter": "python",
   "pygments_lexer": "ipython2",
   "version": "2.7.12"
  }
 },
 "nbformat": 4,
 "nbformat_minor": 2
}
