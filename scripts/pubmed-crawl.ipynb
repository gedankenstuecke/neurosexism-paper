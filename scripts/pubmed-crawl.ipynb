{
 "cells": [
  {
   "cell_type": "code",
   "execution_count": 45,
   "metadata": {
    "collapsed": true
   },
   "outputs": [],
   "source": [
    "from Bio import Entrez\n",
    "from Bio import Medline\n",
    "import datetime \n",
    "\n",
    "Entrez.email = \"bgreshake@googlemail.com\"\n",
    "\n",
    "search_term = \"((gender[Title/Abstract]) OR sex[Title/Abstract]) AND (fMRI[Title/Abstract] OR EEG[Title/Abstract])\""
   ]
  },
  {
   "cell_type": "code",
   "execution_count": 46,
   "metadata": {
    "collapsed": false
   },
   "outputs": [],
   "source": [
    "crawltime = datetime.datetime.now().strftime(\"%Y-%m-%d-%H-%M-%S\")\n",
    "\n",
    "# get number of articles we need to fetch\n",
    "handle = Entrez.esearch(db=\"pubmed\", term=search_term)\n",
    "record = Entrez.read(handle)\n",
    "article_number = record[\"Count\"]\n",
    "handle.close()"
   ]
  },
  {
   "cell_type": "code",
   "execution_count": 47,
   "metadata": {
    "collapsed": false
   },
   "outputs": [],
   "source": [
    "# get all articles from pubmed\n",
    "handle = Entrez.esearch(db=\"pubmed\", term=search_term, retmax=article_number)\n",
    "record = Entrez.read(handle)\n",
    "id_list = record[\"IdList\"]\n",
    "handle.close()"
   ]
  },
  {
   "cell_type": "code",
   "execution_count": 48,
   "metadata": {
    "collapsed": false
   },
   "outputs": [
    {
     "name": "stdout",
     "output_type": "stream",
     "text": [
      "3\n"
     ]
    }
   ],
   "source": [
    "# split input list in chunks of 150 so pubmed will honor our requests\n",
    "\n",
    "id_list_chunks = [id_list[x:x+150] for x in range(0, len(id_list), 150)]\n",
    "len(id_list_chunks)\n",
    "print len(id_list_chunks[-1])"
   ]
  },
  {
   "cell_type": "code",
   "execution_count": 49,
   "metadata": {
    "collapsed": false
   },
   "outputs": [],
   "source": [
    "all_records = []\n",
    "for i in id_list_chunks:\n",
    "    handle = Entrez.efetch(db=\"pubmed\", id=i, rettype=\"medline\",\n",
    "                           retmode=\"text\")\n",
    "    records = Medline.parse(handle)\n",
    "    records = list(records)\n",
    "    all_records += records\n",
    "    handle.close()"
   ]
  },
  {
   "cell_type": "code",
   "execution_count": 53,
   "metadata": {
    "collapsed": false
   },
   "outputs": [],
   "source": [
    "outfile = \"../data/%s-pubmed-crawl.csv\" % crawltime\n",
    "output = open(outfile,\"w\")\n",
    "output.write(\"#search term: %s \\n\" % search_term)\n",
    "output.write(\"pubmed_ID\\tDOI\\n\")\n",
    "\n",
    "no_doi_outfile = \"../data/%s-pubmed-crawl-no-doi.csv\" % crawltime\n",
    "no_doi_output = open(no_doi_outfile,\"w\")\n",
    "no_doi_output.write(\"#search term: %s \\n\" % search_term)\n",
    "no_doi_output.write(\"pubmed_ID\\n\")\n",
    "\n",
    "\n",
    "for record in all_records:\n",
    "    doi = \"-\"\n",
    "    if \"AID\" in record.keys():\n",
    "        for aid in record[\"AID\"]:\n",
    "            if \"[doi]\" in aid:\n",
    "                doi = aid.replace(\"[doi]\",\"\")\n",
    "    \n",
    "    if doi != \"-\":\n",
    "        output.write(record[\"PMID\"] + \"\\t\" + doi + \"\\n\")        \n",
    "    else:\n",
    "        no_doi_output.write(record[\"PMID\"] + \"\\n\")        \n",
    "output.close()\n",
    "no_doi_output.close()"
   ]
  },
  {
   "cell_type": "code",
   "execution_count": 44,
   "metadata": {
    "collapsed": false
   },
   "outputs": [
    {
     "data": {
      "text/plain": [
       "'2017-09-04-18-40-28'"
      ]
     },
     "execution_count": 44,
     "metadata": {},
     "output_type": "execute_result"
    }
   ],
   "source": [
    "datetime.datetime.now().strftime(\"%Y-%m-%d-%H-%M-%S\")"
   ]
  },
  {
   "cell_type": "code",
   "execution_count": null,
   "metadata": {
    "collapsed": true
   },
   "outputs": [],
   "source": []
  }
 ],
 "metadata": {
  "kernelspec": {
   "display_name": "Python 2",
   "language": "python",
   "name": "python2"
  },
  "language_info": {
   "codemirror_mode": {
    "name": "ipython",
    "version": 2
   },
   "file_extension": ".py",
   "mimetype": "text/x-python",
   "name": "python",
   "nbconvert_exporter": "python",
   "pygments_lexer": "ipython2",
   "version": "2.7.12"
  }
 },
 "nbformat": 4,
 "nbformat_minor": 2
}
