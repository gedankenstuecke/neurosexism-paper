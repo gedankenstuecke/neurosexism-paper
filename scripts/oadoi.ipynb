{
 "cells": [
  {
   "cell_type": "code",
   "execution_count": null,
   "metadata": {
    "collapsed": false
   },
   "outputs": [],
   "source": [
    "import glob\n",
    "import json\n",
    "import urllib2\n",
    "import datetime\n",
    "import time\n",
    "\n",
    "email = \"bgreshake@googlemail.com\""
   ]
  },
  {
   "cell_type": "code",
   "execution_count": null,
   "metadata": {
    "collapsed": false
   },
   "outputs": [],
   "source": [
    "\n",
    "pubmed_files = glob.glob(\"../data/*pubmed-crawl.csv\")\n",
    "latest_pubmed = pubmed_files[-1]\n",
    "print(\"reading file %s\" % latest_pubmed)\n",
    "dois = []\n",
    "with open(latest_pubmed) as pubmed_file:\n",
    "    for line in pubmed_file:\n",
    "        if line[0] != \"#\":\n",
    "            la = line.strip().split(\"\\t\")\n",
    "            if la[-1] != \"DOI\":\n",
    "                dois.append(la[-1])"
   ]
  },
  {
   "cell_type": "code",
   "execution_count": null,
   "metadata": {
    "collapsed": false
   },
   "outputs": [],
   "source": [
    "# get OA information from oaDOI.org API: \n",
    "\n",
    "pubmed_files = glob.glob(\"../data/*pubmed-crawl.csv\")\n",
    "latest_pubmed = pubmed_files[-1]\n",
    "print(\"reading file %s\" % latest_pubmed)\n",
    "dois = []\n",
    "with open(latest_pubmed) as pubmed_file:\n",
    "    for line in pubmed_file:\n",
    "        if line[0] != \"#\":\n",
    "            la = line.strip().split(\"\\t\")\n",
    "            if la[-1] != \"DOI\":\n",
    "                dois.append(la[-1])\n",
    "\n",
    "\n",
    "oadoi_output = []\n",
    "crawltime = datetime.datetime.now().strftime(\"%Y-%m-%d-%H-%M-%S\")\n",
    "\n",
    "for i,doi in enumerate(dois):\n",
    "    request = \"https://api.oadoi.org/v2/%s?email=%s\" % (doi,email)\n",
    "    error_counter = 0\n",
    "    if i % 100 == 0:\n",
    "        print \"finished %s DOIs\" % str(i)\n",
    "    while error_counter < 5:\n",
    "        try:\n",
    "            data = json.load(urllib2.urlopen(request))\n",
    "            oadoi_output.append(data)\n",
    "            break\n",
    "        except:\n",
    "            time.sleep(2)\n",
    "            error_counter += 1\n",
    "            print(\"error %s for %s\" % (str(error_counter),doi))\n",
    "    else:\n",
    "        print(\"ERROR: %s failed terminally\" % doi)\n"
   ]
  },
  {
   "cell_type": "code",
   "execution_count": null,
   "metadata": {
    "collapsed": false
   },
   "outputs": [],
   "source": [
    "# ok, let's save the output we got from the oaDOI API\n",
    "# let's save the full json we got as well as the key things as CSV\n",
    "\n",
    "# \"../data/parsetime-oadoi.csv\" contains all DOI plus key OA-metrics\n",
    "# \"../data/parsetime-oadoi.json\" contains all json delivered by oaDOI\n",
    "# the CSV file has a header with the oaDOI field names\n",
    "\n",
    "outfile = \"../data/%s-oadoi.csv\" % crawltime\n",
    "\n",
    "output = open(outfile,\"w\")\n",
    "output.write(\"#infile: %s \\n\" % latest_pubmed)\n",
    "output.write(\"doi\\tis_oa\\tjournal_is_oa\\thost_type\\n\")\n",
    "\n",
    "outfile_json = \"../data/%s-oadoi.json\" % crawltime\n",
    "output_json = open(outfile_json,\"w\")\n",
    "json.dump(oadoi_output, output_json)\n",
    "output_json.close()\n",
    "\n",
    "for paper in oadoi_output:\n",
    "    doi = paper[\"doi\"]\n",
    "    is_oa = paper[\"is_oa\"]\n",
    "    journal_is_oa = paper[\"journal_is_oa\"]\n",
    "    if is_oa == True:\n",
    "        host_type = paper[\"best_oa_location\"][\"host_type\"]\n",
    "    else:\n",
    "        host_type = \"NA\"\n",
    "    output.write(\"%s\\t%s\\t%s\\t%s\\n\" % (doi,str(is_oa),str(journal_is_oa),host_type))"
   ]
  }
 ],
 "metadata": {
  "kernelspec": {
   "display_name": "Python 2",
   "language": "python",
   "name": "python2"
  },
  "language_info": {
   "codemirror_mode": {
    "name": "ipython",
    "version": 2
   },
   "file_extension": ".py",
   "mimetype": "text/x-python",
   "name": "python",
   "nbconvert_exporter": "python",
   "pygments_lexer": "ipython2",
   "version": "2.7.12"
  }
 },
 "nbformat": 4,
 "nbformat_minor": 2
}
